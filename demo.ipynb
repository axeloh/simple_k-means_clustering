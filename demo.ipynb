{
 "cells": [
  {
   "cell_type": "code",
   "execution_count": 3,
   "metadata": {},
   "outputs": [
    {
     "data": {
      "image/png": "[encoded data removed]",
      "text/plain": [
       "<Figure size 432x288 with 1 Axes>"
      ]
     },
     "metadata": {},
     "output_type": "display_data"
    }
   ],
   "source": [
    "import numpy as np\n",
    "import matplotlib.pyplot as plt\n",
    "from matplotlib import style\n",
    "style.use(\"ggplot\") # Makes it look nicer \n",
    "from sklearn.cluster import KMeans\n",
    "\n",
    "# Plotting and visualizing our data before feeding it into the\n",
    "# machine learning algorithm\n",
    "x = [1, 5, 1.5, 8, 1, 9]\n",
    "y = [2, 8, 1.8, 8, 0.6, 11]\n",
    "plt.scatter(x, y)\n",
    "plt.show()\n"
   ]
  },
  {
   "cell_type": "code",
   "execution_count": 23,
   "metadata": {},
   "outputs": [
    {
     "name": "stdout",
     "output_type": "stream",
     "text": [
      "Centroid points: \n",
      " [[ 7.33333333  9.        ]\n",
      " [ 1.16666667  1.46666667]]\n",
      "Labels: [1 0 1 0 1 0]\n"
     ]
    }
   ],
   "source": [
    "# Converting our data to a Numpy array\n",
    "# X = np.array([[1, 2], [5, 8], [1.5, 1.8], [8, 8], [1, 0.6], [9, 11]])\n",
    "X = np.column_stack((x, y))\n",
    "\n",
    "# Initialize K-means algorithm with required parameter\n",
    "# Use .fit() to fit the data\n",
    "kmeans = KMeans(n_clusters=2)\n",
    "kmeans.fit(X)\n",
    "\n",
    "# Getting the values of centroids and labels based on fitment\n",
    "centroids = kmeans.cluster_centers_\n",
    "labels = kmeans.labels_\n",
    "print(\"Centroid points: \\n\", centroids)\n",
    "print(\"Labels:\", labels)"
   ]
  },
  {
   "cell_type": "code",
   "execution_count": 21,
   "metadata": {},
   "outputs": [
    {
     "name": "stdout",
     "output_type": "stream",
     "text": [
      "coordinate: [ 1.  2.] label: 1\n",
      "coordinate: [ 5.  8.] label: 0\n",
      "coordinate: [ 1.5  1.8] label: 1\n",
      "coordinate: [ 8.  8.] label: 0\n",
      "coordinate: [ 1.   0.6] label: 1\n",
      "coordinate: [  9.  11.] label: 0\n"
     ]
    },
    {
     "data": {
      "image/png": "[encoded data removed]",
      "text/plain": [
       "<Figure size 432x288 with 1 Axes>"
      ]
     },
     "metadata": {},
     "output_type": "display_data"
    }
   ],
   "source": [
    "# Plotting and visualizing output\n",
    "colors = [\"g.\", \"r.\", \"c.\", \"y.\"]\n",
    "for i in range(len(X)):\n",
    "    print(\"coordinate:\", X[i], \"label:\", labels[i])\n",
    "    plt.plot(X[i][0], X[i][1], colors[labels[i]], markersize=10)\n",
    "    \n",
    "plt.scatter(centroids[:, 0], centroids[:, 1], marker=\"x\", s=150, \n",
    "            linewidths=5, zorder=10)\n",
    "plt.show()"
   ]
  }
 ],
 "metadata": {
  "kernelspec": {
   "display_name": "Python 3",
   "language": "python",
   "name": "python3"
  },
  "language_info": {
   "codemirror_mode": {
    "name": "ipython",
    "version": 3
   },
   "file_extension": ".py",
   "mimetype": "text/x-python",
   "name": "python",
   "nbconvert_exporter": "python",
   "pygments_lexer": "ipython3",
   "version": "3.6.1"
  }
 },
 "nbformat": 4,
 "nbformat_minor": 2
}
